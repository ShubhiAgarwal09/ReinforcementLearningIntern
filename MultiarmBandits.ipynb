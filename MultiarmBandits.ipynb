{
  "nbformat": 4,
  "nbformat_minor": 0,
  "metadata": {
    "colab": {
      "provenance": []
    },
    "kernelspec": {
      "name": "python3",
      "display_name": "Python 3"
    },
    "language_info": {
      "name": "python"
    }
  },
  "cells": [
    {
      "cell_type": "code",
      "execution_count": null,
      "metadata": {
        "id": "YIn5r3_o0wRa"
      },
      "outputs": [],
      "source": [
        "import numpy as np\n",
        "import matplotlib.pyplot as plt\n",
        "import matplotlib\n",
        "from random import choice"
      ]
    },
    {
      "cell_type": "code",
      "source": [
        "class shop:\n",
        "    def __init__(self, mu, dev):\n",
        "        self.mu = mu\n",
        "        self.dev = dev\n",
        "    def sample(self):\n",
        "        return np.random.normal(self.mu, self.dev)"
      ],
      "metadata": {
        "id": "J9yM8PBC2ljt"
      },
      "execution_count": null,
      "outputs": []
    },
    {
      "cell_type": "code",
      "source": [
        "def epsilon_greedy(candidates, num_time, epsilon=0.05):\n",
        "    scores = []\n",
        "    history = {idx: [c.sample()] for idx,c in enumerate(candidates)}\n",
        "    for _ in range(num_time - len(candidates)):\n",
        "        p = np.random.random()\n",
        "        #explore\n",
        "        if p < epsilon:\n",
        "            chosen = choice(candidates)\n",
        "        #exploit\n",
        "        else:\n",
        "            chosen = candidates[sorted(history.items(), key=lambda pair: np.mean(pair[1]))[-1][0]]\n",
        "        score = chosen.sample()\n",
        "        scores.append(score)\n",
        "        history[candidates.index(chosen)].append(score)\n",
        "    return sum(scores)"
      ],
      "metadata": {
        "id": "gE6p3eHY2mXL"
      },
      "execution_count": null,
      "outputs": []
    },
    {
      "cell_type": "code",
      "source": [
        "def ucb1(candidates, num_time):\n",
        "    scores = []\n",
        "    history = {idx: [c.sample()] for idx,c in enumerate(candidates)}\n",
        "    for t in range(len(candidates), num_time):\n",
        "        mu_plus_ucb = [np.mean(history[idx]) + np.sqrt(2*np.log(t) / len(history[idx])) for idx in range(len(candidates))]\n",
        "        chosen = candidates[np.argmax(mu_plus_ucb)]\n",
        "        \n",
        "        score = chosen.sample()\n",
        "        scores.append(score)\n",
        "        history[candidates.index(chosen)].append(score)\n",
        "    return sum(scores)"
      ],
      "metadata": {
        "id": "_WXs5zHG2q52"
      },
      "execution_count": null,
      "outputs": []
    },
    {
      "cell_type": "code",
      "source": [
        "dev_factor = 0.5\n",
        "num_items = 10\n",
        "\n",
        "mu_vals = [0.5,0.86,0.25,0.63,0.96,0.75,0.82,0.56,0.19,0.28]\n",
        "dev_vals = [mu*dev_factor for mu in mu_vals]\n",
        "mu_dev_pairs = zip(mu_vals, dev_vals)\n",
        "\n",
        "candidates = [shop(mu,dev) for mu,dev in mu_dev_pairs]\n",
        "\n",
        "num_time = 100\n",
        "\n",
        "optimal_average = max(mu_vals)*num_time"
      ],
      "metadata": {
        "id": "PV1TURmh2xou"
      },
      "execution_count": null,
      "outputs": []
    },
    {
      "cell_type": "code",
      "source": [
        "epsilon_greedy_vals = []\n",
        "for _ in range(1000):\n",
        "    val = epsilon_greedy(candidates, num_time, 0.1)\n",
        "    epsilon_greedy_vals.append(val)\n",
        "plt.plot(epsilon_greedy_vals)\n",
        "print('Epsilon Greedy Mean Regret (10%%): %s'%((optimal_average - np.mean(epsilon_greedy_vals)) / optimal_average))"
      ],
      "metadata": {
        "id": "vBtwLEeb24Qe",
        "colab": {
          "base_uri": "https://localhost:8080/",
          "height": 282
        },
        "outputId": "e6fcd3ee-6319-4ea2-fdf6-830c207bc371"
      },
      "execution_count": null,
      "outputs": [
        {
          "output_type": "stream",
          "name": "stdout",
          "text": [
            "Epsilon Greedy Mean Regret (10%): 0.2011790745086429\n"
          ]
        },
        {
          "output_type": "display_data",
          "data": {
            "text/plain": [
              "<Figure size 432x288 with 1 Axes>"
            ],
            "image/png": "[encoded data removed]"
          },
          "metadata": {
            "needs_background": "light"
          }
        }
      ]
    },
    {
      "cell_type": "code",
      "source": [
        "ucb1_vals = []\n",
        "for _ in range(1000):\n",
        "    val = ucb1(candidates, num_time)\n",
        "    ucb1_vals.append(val)\n",
        "print('UCB1 Mean Regret: %s'%((optimal_average - np.mean(ucb1_vals)) / optimal_average))"
      ],
      "metadata": {
        "id": "bB6G467724ch",
        "colab": {
          "base_uri": "https://localhost:8080/"
        },
        "outputId": "ef2dcc02-c379-4f24-ef7a-81199bd7a0b0"
      },
      "execution_count": null,
      "outputs": [
        {
          "output_type": "stream",
          "name": "stdout",
          "text": [
            "UCB1 Mean Regret: 0.33637438418148413\n"
          ]
        }
      ]
    },
    {
      "cell_type": "code",
      "source": [
        "import statsmodels.api as sm\n",
        "x = mu_vals\n",
        "y = dev_vals\n",
        "x2 = sm.add_constant(x)\n",
        "modl = sm.OLS(y,x2)\n",
        "modl2 = modl.fit()\n",
        "print(modl2.summary())\n"
      ],
      "metadata": {
        "colab": {
          "base_uri": "https://localhost:8080/"
        },
        "id": "PhhOW0lpoZee",
        "outputId": "38cc149e-57f1-41db-e945-ee4198875a1f"
      },
      "execution_count": null,
      "outputs": [
        {
          "output_type": "stream",
          "name": "stderr",
          "text": [
            "/usr/local/lib/python3.7/dist-packages/statsmodels/tools/_testing.py:19: FutureWarning: pandas.util.testing is deprecated. Use the functions in the public API at pandas.testing instead.\n",
            "  import pandas.util.testing as tm\n"
          ]
        },
        {
          "output_type": "stream",
          "name": "stdout",
          "text": [
            "                            OLS Regression Results                            \n",
            "==============================================================================\n",
            "Dep. Variable:                      y   R-squared:                       1.000\n",
            "Model:                            OLS   Adj. R-squared:                  1.000\n",
            "Method:                 Least Squares   F-statistic:                 4.346e+31\n",
            "Date:                Sun, 07 Aug 2022   Prob (F-statistic):          3.14e-124\n",
            "Time:                        06:36:33   Log-Likelihood:                 360.11\n",
            "No. Observations:                  10   AIC:                            -716.2\n",
            "Df Residuals:                       8   BIC:                            -715.6\n",
            "Df Model:                           1                                         \n",
            "Covariance Type:            nonrobust                                         \n",
            "==============================================================================\n",
            "                 coef    std err          t      P>|t|      [0.025      0.975]\n",
            "------------------------------------------------------------------------------\n",
            "const       5.551e-17   4.82e-17      1.152      0.282   -5.56e-17    1.67e-16\n",
            "x1             0.5000   7.58e-17   6.59e+15      0.000       0.500       0.500\n",
            "==============================================================================\n",
            "Omnibus:                     2122.865   Durbin-Watson:                   0.000\n",
            "Prob(Omnibus):                  0.000   Jarque-Bera (JB):                3.750\n",
            "Skew:                           0.000   Prob(JB):                        0.153\n",
            "Kurtosis:                       0.000   Cond. No.                         5.23\n",
            "==============================================================================\n",
            "\n",
            "Warnings:\n",
            "[1] Standard Errors assume that the covariance matrix of the errors is correctly specified.\n"
          ]
        },
        {
          "output_type": "stream",
          "name": "stderr",
          "text": [
            "/usr/local/lib/python3.7/dist-packages/scipy/stats/stats.py:1542: UserWarning: kurtosistest only valid for n>=20 ... continuing anyway, n=10\n",
            "  \"anyway, n=%i\" % int(n))\n"
          ]
        }
      ]
    }
  ]
}